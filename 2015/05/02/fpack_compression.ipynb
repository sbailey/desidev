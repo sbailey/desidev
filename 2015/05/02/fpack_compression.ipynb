{
 "metadata": {
  "name": "",
  "signature": "sha256:305818677e71bca001ff3ad98a354c86c7ca53758f1de5ad6af5e28685b10cbc"
 },
 "nbformat": 3,
 "nbformat_minor": 0,
 "worksheets": [
  {
   "cells": [
    {
     "cell_type": "markdown",
     "metadata": {},
     "source": [
      "Study of lossy floating point compression with fpack\n",
      "====================================================\n",
      "\n",
      "Stephen Bailey, Spring 2015\n",
      "\n",
      "## Summary ##\n",
      "1. fpack is a registered FITS convention for compressing the data portion of HDUs\n",
      "   while leaving the headers uncompressed.  It supports lossless compression of \n",
      "   integer data and either lossless or lossy compression of floating point data.\n",
      "2. lossless gzip compression of random floating point data isn't worth it: <5% compression\n",
      "3. converting double to float is a form of lossy compression: 2x compression with\n",
      "   O(1e-8) loss of precision\n",
      "4. fpack can do ~40x better in precision or ~10% better in compression, at a\n",
      "   considerable cost in complexity (see note)\n",
      "                                                                               \n",
      "## Recommendation for DESI ##\n",
      "1. Use fpack for lossless compression of integer data, e.g. raw data and masks\n",
      "2. Use float for lossy compression of double precision data\n",
      "3. Have I/O routines automatically convert to/from float; all calculation should be done in double\n",
      "\n",
      "**Note**: Our pipeline is designed around each step writing a file and having\n",
      "the next step read that file to keep going.  At the same time, we would\n",
      "like to reserve the possibility of skipping the read by directly using the\n",
      "results that are already in memory.  The loss of precision from using float\n",
      "in the I/O instead of double is readily reproducible in memory; I don't know\n",
      "of a viable way to mimic the fpack loss of precision without actually writing\n",
      "the file."
     ]
    },
    {
     "cell_type": "heading",
     "level": 2,
     "metadata": {},
     "source": [
      "float vs. double as a lossy compression"
     ]
    },
    {
     "cell_type": "code",
     "collapsed": false,
     "input": [
      "#- Loss of precision\n",
      "import numpy as np\n",
      "dd = np.random.normal(scale=1, loc=1, size=(500, 4000))\n",
      "df = dd.astype(np.float32)\n",
      "df_precision = np.std(dd-df)\n",
      "print df_precision"
     ],
     "language": "python",
     "metadata": {},
     "outputs": [
      {
       "output_type": "stream",
       "stream": "stdout",
       "text": [
        "3.58985460801e-08\n"
       ]
      }
     ],
     "prompt_number": 29
    },
    {
     "cell_type": "heading",
     "level": 2,
     "metadata": {},
     "source": [
      "fpack lossy compression"
     ]
    },
    {
     "cell_type": "code",
     "collapsed": false,
     "input": [
      "#- compress a dataset; return compression factor and loss of precision\n",
      "def testpack(data, compression_type='RICE_1', quantize_level=16.0):\n",
      "    hdu = fits.CompImageHDU(data,\n",
      "                 compression_type=compression_type, quantize_level=quantize_level,\n",
      "                 clobber=True)\n",
      "    hdu.writeto('blat.fits', clobber=True)\n",
      "    dx = fits.getdata('blat.fits')\n",
      "    mbx = os.stat('blat.fits').st_size / 1024.**2\n",
      "    compression = (data.size*data.dtype.itemsize/1024.**2) / mbx\n",
      "    return compression, np.std(data-dx)"
     ],
     "language": "python",
     "metadata": {},
     "outputs": [],
     "prompt_number": 30
    },
    {
     "cell_type": "code",
     "collapsed": false,
     "input": [
      "testpack(dd, 'GZIP_1')"
     ],
     "language": "python",
     "metadata": {},
     "outputs": [
      {
       "metadata": {},
       "output_type": "pyout",
       "prompt_number": 31,
       "text": [
        "(5.922767116796967, 0.01788079275168435)"
       ]
      }
     ],
     "prompt_number": 31
    },
    {
     "cell_type": "code",
     "collapsed": false,
     "input": [
      "#- Scan through the quantization parameter\n",
      "#- Return arrays of q, compression_factor, loss_of_precision\n",
      "def scanq(data, compression_type='GZIP_1'):\n",
      "    results = list()\n",
      "    qx = 10**np.arange(9,4,-0.5)\n",
      "    results = [testpack(data, compression_type=compression_type, quantize_level=q) for q in qx]\n",
      "    compression, precision = zip(*results)\n",
      "    return np.asarray(qx), np.asarray(compression), np.asarray(precision)"
     ],
     "language": "python",
     "metadata": {},
     "outputs": [],
     "prompt_number": 32
    },
    {
     "cell_type": "code",
     "collapsed": false,
     "input": [
      "%pylab inline\n",
      "def plotscan(data, comptype='GZIP_1', extra_noise=0.0, pre_compression=1.0):\n",
      "    qx, compression, precision = scanq(data, comptype)\n",
      "    precision = np.sqrt(precision**2 + extra_noise**2)\n",
      "    plot(compression*pre_compression, np.log10(precision), 'b.-')\n",
      "    xlim(1, np.max(compression*pre_compression)*1.2)\n",
      "    xlabel('compression factor')\n",
      "    ylabel('log10(std(delta))')\n",
      "    return qx, compression, precision"
     ],
     "language": "python",
     "metadata": {},
     "outputs": [
      {
       "output_type": "stream",
       "stream": "stdout",
       "text": [
        "Populating the interactive namespace from numpy and matplotlib\n"
       ]
      }
     ],
     "prompt_number": 44
    },
    {
     "cell_type": "code",
     "collapsed": false,
     "input": [
      "qx, compression, precision = plotscan(dd, 'GZIP_1')\n",
      "plot([2,], [np.log10(df_precision),], 'rs')"
     ],
     "language": "python",
     "metadata": {},
     "outputs": [
      {
       "metadata": {},
       "output_type": "pyout",
       "prompt_number": 45,
       "text": [
        "[<matplotlib.lines.Line2D at 0x105b4b5d0>]"
       ]
      },
      {
       "metadata": {},
       "output_type": "display_data",
       "png": "[encoded data removed]",
       "text": [
        "<matplotlib.figure.Figure at 0x10d2a88d0>"
       ]
      }
     ],
     "prompt_number": 45
    },
    {
     "cell_type": "code",
     "collapsed": false,
     "input": [
      "print 'Lossless compression', np.max(compression[precision==0.0])\n",
      "px = np.std(dd-df)\n",
      "print 'Precision improvement vs. float', px / np.interp(2, compression, precision)\n",
      "print 'Compression improvement vs. float', np.interp(px, precision, compression)/2.0"
     ],
     "language": "python",
     "metadata": {},
     "outputs": [
      {
       "output_type": "stream",
       "stream": "stdout",
       "text": [
        "Lossless compression 1.03764578923\n",
        "Precision improvement vs. float 39.9168379234\n",
        "Compression improvement vs. float 1.11205527366\n"
       ]
      }
     ],
     "prompt_number": 46
    },
    {
     "cell_type": "code",
     "collapsed": false,
     "input": [
      "#- comparing compression of double vs. float\n",
      "qx, compression, precision = plotscan(dd, 'GZIP_1')\n",
      "qx, compression, precision = plotscan(df, 'GZIP_1', extra_noise=df_precision, pre_compression=2.0)"
     ],
     "language": "python",
     "metadata": {},
     "outputs": [
      {
       "metadata": {},
       "output_type": "display_data",
       "png": "[encoded data removed]",
       "text": [
        "<matplotlib.figure.Figure at 0x106420c10>"
       ]
      }
     ],
     "prompt_number": 47
    }
   ],
   "metadata": {}
  }
 ]
}